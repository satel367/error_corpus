{
 "cells": [
  {
   "cell_type": "markdown",
   "metadata": {},
   "source": []
  },
  {
   "cell_type": "code",
   "execution_count": 1,
   "metadata": {},
   "outputs": [],
   "source": [
    "import sqlite3\n",
    "import json\n",
    "import matplotlib.pyplot as plt"
   ]
  },
  {
   "cell_type": "code",
   "execution_count": 18,
   "metadata": {},
   "outputs": [],
   "source": [
    "con = sqlite3.connect(\"error_corpus.db\")\n",
    "cur = con.cursor()\n",
    "\n",
    "STOPWORDS = {\"TenseAgreement\", \"NegativeForm\"}\n",
    "\n",
    "with open(\"groups.json\") as f:\n",
    "    groups = json.load(f)"
   ]
  },
  {
   "cell_type": "markdown",
   "metadata": {},
   "source": []
  },
  {
   "cell_type": "code",
   "execution_count": 3,
   "metadata": {},
   "outputs": [],
   "source": [
    "tags = [el for el in cur.execute(\"SELECT tag, id FROM tag\").fetchall() if not el[0] in STOPWORDS]"
   ]
  },
  {
   "cell_type": "code",
   "execution_count": 34,
   "metadata": {},
   "outputs": [
    {
     "name": "stdout",
     "output_type": "stream",
     "text": [
      "LEX: 51\n",
      "GR: 170\n",
      "Pron: 2\n",
      "Syntax: 17\n",
      "PRON: 17\n",
      "OTHER: 1\n",
      "Art: 0\n",
      "Gr: 2\n"
     ]
    },
    {
     "data": {
      "image/png": "[encoded data removed]",
      "text/plain": [
       "<Figure size 460.8x345.6 with 1 Axes>"
      ]
     },
     "metadata": {
      "needs_background": "light"
     },
     "output_type": "display_data"
    }
   ],
   "source": [
    "\n",
    "num_tags = []\n",
    "plt.rcParams[\"figure.figsize\"] = plt.rcParamsDefault[\"figure.figsize\"]\n",
    "\n",
    "for el in tags:\n",
    "    res = cur.execute(\n",
    "            f\"SELECT count(DISTINCT ph.phrase) FROM phrase as ph WHERE ph.id in (SELECT e.phrase_id FROM error as e WHERE e.tag_id = (SELECT t.id FROM tag as t WHERE t.tag = ?)) ;\",\n",
    "            (el[0],),\n",
    "    )\n",
    "    num_tags.append(res.fetchone()[0])\n",
    "\n",
    "for t, num in zip(tags, num_tags):\n",
    "    print(f\"{t[0]}: {num}\")\n",
    "\n",
    "fig, ax = plt.subplots()\n",
    "ax.bar([el[0] for el in tags], num_tags)\n",
    "\n",
    "plt.show()"
   ]
  },
  {
   "cell_type": "code",
   "execution_count": 31,
   "metadata": {},
   "outputs": [
    {
     "name": "stdout",
     "output_type": "stream",
     "text": [
      "GR: \n",
      "Art                 |#################################\n",
      "NaAt                |#\n",
      "Prep                |#############################\n",
      "RelCl               |##\n",
      "PasV                |#\n",
      "QuestStr            |#\n",
      "Tense               |############################\n",
      "SentStr             |##\n",
      "Passive Voice       |##\n",
      "Word order          |#########\n",
      "Verb pattern        |###\n",
      "Singular\\plural noun|#\n",
      "Passive voice       |#\n",
      "Sequence of tenses  |####\n",
      "Modal verb          |##\n",
      "Complex Object      |##\n",
      "Infinitive          |#####\n",
      "Wrong pronoun       |###########\n",
      "Noun countability   |##\n",
      "Auxiliary           |####\n",
      "Determiner          |#\n",
      "IndefArt            |#######\n",
      "Extra Preposition   |#\n",
      "DefArt              |####\n",
      "ZeroArt             |####\n",
      "WrongPronoun        |##\n",
      "Quantifier          |#\n",
      "Gerund              |#\n",
      "Tenses              |\n",
      "Noun                |\n",
      "Pronoun             |\n",
      "Extra prep          |#\n",
      "PresentPerf         |#\n",
      "PresentPerfCont     |##\n",
      "Missing Preposition |#\n",
      "PastSimple          |#######\n",
      "WrongPreposition    |#\n",
      "MissingngPreposition|#\n",
      "ExtraPrep           |#\n",
      "Question formation  |##\n",
      "PresentSimple       |###\n",
      "FutureSimple        |##\n",
      "ExtraPreposition    |#\n",
      "ComplexObject       |#\n",
      "VerbPattern         |#\n"
     ]
    }
   ],
   "source": [
    "tag = cur.execute(\"SELECT tag, id FROM tag WHERE tag = 'GR';\").fetchone()\n",
    "\n",
    "types = [el for el in cur.execute(\"SELECT error_type, id FROM type WHERE tag_id = ?\", (tag[1],)).fetchall()]\n",
    "\n",
    "ts = []\n",
    "nums = []\n",
    "\n",
    "for t, j in types:\n",
    "    num = cur.execute(\"SELECT count(DISTINCT ph.phrase) FROM phrase as ph WHERE id in (SELECT e.phrase_id FROM error as e WHERE type_id = ?)\", (j,)).fetchone()[0]\n",
    "    ts.append(t)\n",
    "    nums.append(num)\n",
    "\n",
    "print(tag[0] + \": \")\n",
    "for t, num in zip(ts, nums):\n",
    "    print(f\"{t:20}|\" + \"#\" * num)"
   ]
  },
  {
   "cell_type": "code",
   "execution_count": 33,
   "metadata": {},
   "outputs": [
    {
     "name": "stdout",
     "output_type": "stream",
     "text": [
      "<Speaking of the results of our research. What we have>\n"
     ]
    }
   ],
   "source": [
    "other = cur.execute(\"SELECT phrase FROM phrase WHERE id = (SELECT phrase_id FROM error WHERE tag_id = (SELECT id FROM tag WHERE tag = 'OTHER'));\")\n",
    "\n",
    "print(other.fetchone()[0])"
   ]
  },
  {
   "cell_type": "code",
   "execution_count": 27,
   "metadata": {},
   "outputs": [
    {
     "data": {
      "image/png": "[encoded data removed]",
      "text/plain": [
       "<Figure size 360x432 with 8 Axes>"
      ]
     },
     "metadata": {
      "needs_background": "light"
     },
     "output_type": "display_data"
    }
   ],
   "source": [
    "new_tags = [el for el in tags if not el[0] in groups[\"Pronunciation mistakes\"] or not el[0] in [\"GR\"]]\n",
    "fig, ax = plt.subplots(len(new_tags), 1)\n",
    "\n",
    "plt.rcParams[\"figure.figsize\"] = [5, 6]\n",
    "\n",
    "for i, tag in enumerate(new_tags):\n",
    "    ax[i].set_title(tag[0])\n",
    "    types = [el for el in cur.execute(\"SELECT error_type, id FROM type WHERE tag_id = ?\", (tag[1],)).fetchall()]\n",
    "\n",
    "    ts = []\n",
    "    nums = []\n",
    "\n",
    "    for t, j in types:\n",
    "        num = cur.execute(\"SELECT count(DISTINCT ph.phrase) FROM phrase as ph WHERE id in (SELECT e.phrase_id FROM error as e WHERE type_id = ?)\", (j,)).fetchone()[0]\n",
    "        ts.append(t)\n",
    "        nums.append(num)\n",
    "\n",
    "    ax[i].barh(ts, nums)\n",
    "    \n",
    "\n",
    "\n",
    "plt.show()  \n",
    "#plt.rcParams[\"figure.figsize\"] = plt.rcParamsDefault[\"figure.figsize\"]  "
   ]
  },
  {
   "cell_type": "code",
   "execution_count": 5,
   "metadata": {},
   "outputs": [
    {
     "name": "stdout",
     "output_type": "stream",
     "text": [
      "[('', 8), ('th as s', 15), ('Individual sound', 20), ('individual sound', 29), ('word stress', 30), ('stress', 36), ('Word stress', 39), ('s as ts', 60), ('individual_sound', 83)]\n"
     ]
    },
    {
     "data": {
      "image/png": "[encoded data removed]",
      "text/plain": [
       "<Figure size 576x576 with 1 Axes>"
      ]
     },
     "metadata": {
      "needs_background": "light"
     },
     "output_type": "display_data"
    }
   ],
   "source": [
    "plt.rcParams[\"figure.figsize\"] = [8, 8]\n",
    "\n",
    "pron_tags = [el for el in tags if el[0] in groups[\"Pronunciation mistakes\"]]\n",
    "\n",
    "types = []\n",
    "\n",
    "fig, ax = plt.subplots()\n",
    "\n",
    "for i, tag in enumerate(pron_tags):\n",
    "\n",
    "    types += [el for el in cur.execute(\"SELECT error_type, id FROM type WHERE tag_id = ?\", (tag[1],)).fetchall()]\n",
    "\n",
    "ts = []\n",
    "nums = []\n",
    "\n",
    "for t, j in types:\n",
    "    num = cur.execute('SELECT count(DISTINCT ph.phrase) FROM phrase as ph WHERE id in (SELECT e.phrase_id FROM error as e WHERE e.type_id = ? AND e.tag_id in (SELECT id FROM tag WHERE tag in (\"PRON\", \"Pron\")));', (j,)).fetchone()[0]\n",
    "    ts.append(t)\n",
    "    nums.append(num)\n",
    "\n",
    "ax.barh(ts, nums)\n",
    "\n",
    "\n",
    "plt.show()"
   ]
  },
  {
   "cell_type": "code",
   "execution_count": 23,
   "metadata": {},
   "outputs": [
    {
     "name": "stdout",
     "output_type": "stream",
     "text": [
      " as k: 1: <knowledges>\n",
      "c an ts: 1: <process>\n",
      "c as sh: 1: <my specialties>\n",
      "ch as h: 1: <tech>\n",
      "draiven: 1: <data-driven>\n",
      "extra i in lt: 1: <my specialties>\n",
      "i as ai: 1: <quit>\n",
      "th as f: 9: <with> <with> <with> <the> <think> <with> <think> <with> <think>\n",
      "th as s: 1: <this>\n"
     ]
    }
   ],
   "source": [
    "types = tuple([el[0] for el in cur.execute(\"SELECT id FROM type WHERE error_type LIKE 'individual%sound';\")])\n",
    "\n",
    "coms = cur.execute(\"SELECT comment, count(comment) FROM error WHERE type_id in (\" + (\"?,\" * len(types))[:-1] + \") GROUP BY comment;\", (*types,)).fetchall()\n",
    "for com, num in coms:\n",
    "    ph = [el[0] for el in cur.execute(\"SELECT phrase FROM phrase WHERE id in (SELECT phrase_id FROM error WHERE comment = ?)\", (com,)).fetchall()]\n",
    "    print(f\"{com}: {num}:\", *ph)"
   ]
  },
  {
   "cell_type": "code",
   "execution_count": 16,
   "metadata": {},
   "outputs": [],
   "source": [
    "con.close()\n",
    "plt.rcParams[\"figure.figsize\"] = plt.rcParamsDefault[\"figure.figsize\"]"
   ]
  }
 ],
 "metadata": {
  "kernelspec": {
   "display_name": "Python 3",
   "language": "python",
   "name": "python3"
  },
  "language_info": {
   "codemirror_mode": {
    "name": "ipython",
    "version": 3
   },
   "file_extension": ".py",
   "mimetype": "text/x-python",
   "name": "python",
   "nbconvert_exporter": "python",
   "pygments_lexer": "ipython3",
   "version": "3.8.10"
  },
  "orig_nbformat": 4
 },
 "nbformat": 4,
 "nbformat_minor": 2
}
